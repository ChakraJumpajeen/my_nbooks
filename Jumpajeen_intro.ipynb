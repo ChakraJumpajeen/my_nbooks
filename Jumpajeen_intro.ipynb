{
 "cells": [
  {
   "cell_type": "markdown",
   "id": "03b88d4a-21fe-4a99-bef1-8a5faa7b33ec",
   "metadata": {},
   "source": [
    "# H1 heading"
   ]
  },
  {
   "cell_type": "markdown",
   "id": "66cd26d0-ae0e-429a-8d91-002858a9c4cc",
   "metadata": {},
   "source": [
    "## H2 heading"
   ]
  },
  {
   "cell_type": "code",
   "execution_count": 31,
   "id": "608721f6-b9db-4c56-a2b7-bbf03ee81989",
   "metadata": {},
   "outputs": [],
   "source": [
    "import random\n",
    "nums = [random.randint(30, 100) for _ in range(40)]"
   ]
  },
  {
   "cell_type": "code",
   "execution_count": 33,
   "id": "fea6b202-cc1f-4e70-84b0-78162fb8a7c4",
   "metadata": {},
   "outputs": [
    {
     "name": "stdout",
     "output_type": "stream",
     "text": [
      "30 32 34 35 39 40 45 46 47 50 50 51 58 58 60 60 62 62 64 66 67 68 68 70 71 72 74 78 79 81 81 84 86 86 92 93 95 97 98 100 "
     ]
    }
   ],
   "source": [
    "nums.sort()\n",
    "for num in nums:\n",
    "    print(num, end=\" \")"
   ]
  },
  {
   "cell_type": "markdown",
   "id": "d26bfe53-180c-4efd-9a83-57f3b04410a5",
   "metadata": {},
   "source": [
    "## The Sample Mean\n",
    "- Collect a set of data points.\n",
    "- Add all the data points together to find the total sum.\n",
    "- Count the number of data points in the set.\n",
    "- Divide the total sum by the number of data points.\n",
    "- The result is the sample mean."
   ]
  },
  {
   "cell_type": "markdown",
   "id": "3390aa6f-2fe9-4f71-b39e-8827c64f4147",
   "metadata": {},
   "source": [
    "$$\\bar{x} = \\frac{\\sum{x_i}}{n}$$"
   ]
  },
  {
   "cell_type": "code",
   "execution_count": 85,
   "id": "54e90004-c04a-4aaa-8757-e14833f880fd",
   "metadata": {},
   "outputs": [
    {
     "name": "stdout",
     "output_type": "stream",
     "text": [
      "The Sample Mean is 65.72\n"
     ]
    }
   ],
   "source": [
    "print(f\"The Sample Mean is {(sum(nums)/40):.2f}\")"
   ]
  },
  {
   "cell_type": "markdown",
   "id": "86424349-1066-4c02-8dbf-6ee576ad5ea3",
   "metadata": {},
   "source": [
    "## The Median\n",
    "\n",
    "[Click here to learn more about the statistical median.](https://www.mathsisfun.com/definitions/median.html)"
   ]
  },
  {
   "cell_type": "code",
   "execution_count": 98,
   "id": "f76af6d0-bbb5-4975-983c-69193bf81ba1",
   "metadata": {},
   "outputs": [
    {
     "name": "stdout",
     "output_type": "stream",
     "text": [
      "The median is: 66.5\n"
     ]
    }
   ],
   "source": [
    "# The median is calculated by sorting the list of numbers in ascending order.\n",
    "# If the list has an even number of values, the median is the average of the two middle numbers.\n",
    "# For an odd number of values, the median is the middle number directly.\n",
    "\n",
    "import statistics\n",
    "median_value = statistics.median(nums)\n",
    "print(f\"The median is: {median_value:.1f}\")"
   ]
  }
 ],
 "metadata": {
  "kernelspec": {
   "display_name": "Python 3 (ipykernel)",
   "language": "python",
   "name": "python3"
  },
  "language_info": {
   "codemirror_mode": {
    "name": "ipython",
    "version": 3
   },
   "file_extension": ".py",
   "mimetype": "text/x-python",
   "name": "python",
   "nbconvert_exporter": "python",
   "pygments_lexer": "ipython3",
   "version": "3.12.4"
  }
 },
 "nbformat": 4,
 "nbformat_minor": 5
}
